{
 "cells": [
  {
   "cell_type": "markdown",
   "metadata": {},
   "source": [
    "RNN"
   ]
  },
  {
   "cell_type": "code",
   "execution_count": 1,
   "metadata": {},
   "outputs": [],
   "source": [
    "from nn import RNN\n",
    "from tensor import Tensor\n",
    "import numpy as np"
   ]
  },
  {
   "cell_type": "code",
   "execution_count": 2,
   "metadata": {},
   "outputs": [],
   "source": [
    "rnn = RNN(5,10)"
   ]
  },
  {
   "cell_type": "code",
   "execution_count": 3,
   "metadata": {},
   "outputs": [],
   "source": [
    "x = np.random.rand(2,5)"
   ]
  },
  {
   "cell_type": "code",
   "execution_count": 4,
   "metadata": {},
   "outputs": [],
   "source": [
    "h = rnn(x)"
   ]
  },
  {
   "cell_type": "code",
   "execution_count": 5,
   "metadata": {},
   "outputs": [
    {
     "data": {
      "text/plain": [
       "[Tensor(-0.06773223801120072, grad_fn=<TanhBackward>),\n",
       " Tensor(-0.35959435647775134, grad_fn=<TanhBackward>),\n",
       " Tensor(-0.14705373706665087, grad_fn=<TanhBackward>),\n",
       " Tensor(-0.19154185874104868, grad_fn=<TanhBackward>),\n",
       " Tensor(0.4635238285215841, grad_fn=<TanhBackward>),\n",
       " Tensor(0.05932202563912575, grad_fn=<TanhBackward>),\n",
       " Tensor(0.216764916094471, grad_fn=<TanhBackward>),\n",
       " Tensor(-0.16678906159434925, grad_fn=<TanhBackward>),\n",
       " Tensor(-0.20136731937217028, grad_fn=<TanhBackward>),\n",
       " Tensor(-0.44692924281459906, grad_fn=<TanhBackward>)]"
      ]
     },
     "execution_count": 5,
     "metadata": {},
     "output_type": "execute_result"
    }
   ],
   "source": [
    "h.tolist()"
   ]
  },
  {
   "cell_type": "code",
   "execution_count": 6,
   "metadata": {},
   "outputs": [],
   "source": [
    "h_0=np.zeros(10)\n",
    "h=h_0"
   ]
  },
  {
   "cell_type": "code",
   "execution_count": 7,
   "metadata": {},
   "outputs": [],
   "source": [
    "h = np.dot(rnn.W,h)+rnn.b_hh+np.dot(rnn.U,x[0])+rnn.b_xh"
   ]
  },
  {
   "cell_type": "code",
   "execution_count": 8,
   "metadata": {},
   "outputs": [],
   "source": [
    "h = np.dot(rnn.W,h)+rnn.b_hh+np.dot(rnn.U,x[1])+rnn.b_xh"
   ]
  },
  {
   "cell_type": "code",
   "execution_count": 9,
   "metadata": {},
   "outputs": [
    {
     "data": {
      "text/plain": [
       "array([Tensor(0.1114194867562869, grad_fn=<AddBackward>),\n",
       "       Tensor(-0.3420727064699067, grad_fn=<AddBackward>),\n",
       "       Tensor(0.09218510273025626, grad_fn=<AddBackward>),\n",
       "       Tensor(-0.9842226266689869, grad_fn=<AddBackward>),\n",
       "       Tensor(-0.46738184601646576, grad_fn=<AddBackward>),\n",
       "       Tensor(0.20955665050803174, grad_fn=<AddBackward>),\n",
       "       Tensor(0.20495935732464848, grad_fn=<AddBackward>),\n",
       "       Tensor(0.2862649394115746, grad_fn=<AddBackward>),\n",
       "       Tensor(0.18559933983841265, grad_fn=<AddBackward>),\n",
       "       Tensor(0.47481711919428393, grad_fn=<AddBackward>)], dtype=object)"
      ]
     },
     "execution_count": 9,
     "metadata": {},
     "output_type": "execute_result"
    }
   ],
   "source": [
    "h"
   ]
  },
  {
   "cell_type": "code",
   "execution_count": 16,
   "metadata": {},
   "outputs": [
    {
     "data": {
      "text/plain": [
       "-0.015773691590702778"
      ]
     },
     "execution_count": 16,
     "metadata": {},
     "output_type": "execute_result"
    }
   ],
   "source": [
    "np.tanh(-0.015775)"
   ]
  },
  {
   "cell_type": "code",
   "execution_count": 7,
   "metadata": {},
   "outputs": [
    {
     "data": {
      "text/plain": [
       "170"
      ]
     },
     "execution_count": 7,
     "metadata": {},
     "output_type": "execute_result"
    }
   ],
   "source": [
    "len(rnn.parameters())"
   ]
  },
  {
   "cell_type": "code",
   "execution_count": 7,
   "metadata": {},
   "outputs": [],
   "source": [
    "from tensor import Tensor"
   ]
  },
  {
   "cell_type": "code",
   "execution_count": null,
   "metadata": {},
   "outputs": [],
   "source": []
  }
 ],
 "metadata": {
  "kernelspec": {
   "display_name": "Python 3",
   "language": "python",
   "name": "python3"
  },
  "language_info": {
   "codemirror_mode": {
    "name": "ipython",
    "version": 3
   },
   "file_extension": ".py",
   "mimetype": "text/x-python",
   "name": "python",
   "nbconvert_exporter": "python",
   "pygments_lexer": "ipython3",
   "version": "3.10.0"
  }
 },
 "nbformat": 4,
 "nbformat_minor": 2
}
