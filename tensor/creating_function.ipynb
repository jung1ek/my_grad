{
 "cells": [
  {
   "cell_type": "code",
   "execution_count": 5,
   "id": "9899af49",
   "metadata": {},
   "outputs": [],
   "source": [
    "import numpy as np\n",
    "from tensor import Tensor"
   ]
  },
  {
   "cell_type": "code",
   "execution_count": 6,
   "id": "55d4dd43",
   "metadata": {},
   "outputs": [],
   "source": [
    "np_to_tensor = np.vectorize(lambda x: Tensor(x))"
   ]
  },
  {
   "cell_type": "code",
   "execution_count": 7,
   "id": "ea57df31",
   "metadata": {},
   "outputs": [],
   "source": [
    "# creating new softmax funciton for batch softmax\n",
    "x = np.random.randn(3,5)\n",
    "x = np_to_tensor(x)"
   ]
  },
  {
   "cell_type": "code",
   "execution_count": 8,
   "id": "b309b262",
   "metadata": {},
   "outputs": [
    {
     "data": {
      "text/plain": [
       "array([[Tensor(29.095758302493813, grad_fn=<AddBackward>)],\n",
       "       [Tensor(3.913343107931451, grad_fn=<AddBackward>)],\n",
       "       [Tensor(7.165908007374277, grad_fn=<AddBackward>)]], dtype=object)"
      ]
     },
     "execution_count": 8,
     "metadata": {},
     "output_type": "execute_result"
    }
   ],
   "source": [
    "np.sum(np.exp(x),axis=-1,keepdims=True) # sum over each rows"
   ]
  },
  {
   "cell_type": "code",
   "execution_count": 9,
   "id": "9e3b5d86",
   "metadata": {},
   "outputs": [],
   "source": [
    "sm = np.exp(x)/np.sum(np.exp(x),axis=-1,keepdims=True)"
   ]
  },
  {
   "cell_type": "code",
   "execution_count": 10,
   "id": "98305cdf",
   "metadata": {},
   "outputs": [
    {
     "data": {
      "text/plain": [
       "array([Tensor(0.9999999999999999, grad_fn=<AddBackward>),\n",
       "       Tensor(1.0, grad_fn=<AddBackward>),\n",
       "       Tensor(1.0, grad_fn=<AddBackward>)], dtype=object)"
      ]
     },
     "execution_count": 10,
     "metadata": {},
     "output_type": "execute_result"
    }
   ],
   "source": [
    "np.sum(sm,axis=-1)"
   ]
  },
  {
   "cell_type": "code",
   "execution_count": 8,
   "id": "db6abbd2",
   "metadata": {},
   "outputs": [],
   "source": [
    "# checking the softmax function\n",
    "from nn import Softmx"
   ]
  },
  {
   "cell_type": "code",
   "execution_count": 10,
   "id": "cbe7b54e",
   "metadata": {},
   "outputs": [
    {
     "data": {
      "text/plain": [
       "array([Tensor(1.0, grad_fn=<AddBackward>),\n",
       "       Tensor(1.0, grad_fn=<AddBackward>),\n",
       "       Tensor(1.0, grad_fn=<AddBackward>)], dtype=object)"
      ]
     },
     "execution_count": 10,
     "metadata": {},
     "output_type": "execute_result"
    }
   ],
   "source": [
    "np.sum(Softmx()(x),axis=-1)"
   ]
  },
  {
   "cell_type": "code",
   "execution_count": 12,
   "id": "ac01562d",
   "metadata": {},
   "outputs": [],
   "source": [
    "from loss import MCELoss"
   ]
  },
  {
   "cell_type": "code",
   "execution_count": 13,
   "id": "7bb76963",
   "metadata": {},
   "outputs": [],
   "source": [
    "criterian  = MCELoss()"
   ]
  },
  {
   "cell_type": "code",
   "execution_count": 14,
   "id": "3f259cb5",
   "metadata": {},
   "outputs": [],
   "source": [
    "one_hot = [0,0,0,1,0]"
   ]
  },
  {
   "cell_type": "code",
   "execution_count": 15,
   "id": "a0d0edd5",
   "metadata": {},
   "outputs": [
    {
     "data": {
      "text/plain": [
       "Tensor(0.22687234087200717, grad_fn=<MCELossBackward>)"
      ]
     },
     "execution_count": 15,
     "metadata": {},
     "output_type": "execute_result"
    }
   ],
   "source": [
    "criterian(sm[0].tolist(),one_hot)"
   ]
  },
  {
   "cell_type": "code",
   "execution_count": 22,
   "id": "609999a9",
   "metadata": {},
   "outputs": [
    {
     "data": {
      "text/plain": [
       "dtype('O')"
      ]
     },
     "execution_count": 22,
     "metadata": {},
     "output_type": "execute_result"
    }
   ],
   "source": [
    "sm.dtype"
   ]
  },
  {
   "cell_type": "code",
   "execution_count": null,
   "id": "bb62b4e4",
   "metadata": {},
   "outputs": [],
   "source": []
  }
 ],
 "metadata": {
  "kernelspec": {
   "display_name": "Python 3",
   "language": "python",
   "name": "python3"
  },
  "language_info": {
   "codemirror_mode": {
    "name": "ipython",
    "version": 3
   },
   "file_extension": ".py",
   "mimetype": "text/x-python",
   "name": "python",
   "nbconvert_exporter": "python",
   "pygments_lexer": "ipython3",
   "version": "3.10.0"
  }
 },
 "nbformat": 4,
 "nbformat_minor": 5
}
