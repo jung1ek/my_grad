{
 "cells": [
  {
   "cell_type": "code",
   "execution_count": 1,
   "id": "e94eb8b4",
   "metadata": {},
   "outputs": [],
   "source": [
    "import numpy as np"
   ]
  },
  {
   "cell_type": "code",
   "execution_count": 3,
   "id": "15be4da3",
   "metadata": {},
   "outputs": [
    {
     "data": {
      "text/plain": [
       "array([0, 1, 2, 3, 4, 5, 6, 7, 8, 9])"
      ]
     },
     "execution_count": 3,
     "metadata": {},
     "output_type": "execute_result"
    }
   ],
   "source": [
    "np.arange(0,10)"
   ]
  },
  {
   "cell_type": "code",
   "execution_count": 5,
   "id": "29e921fd",
   "metadata": {},
   "outputs": [
    {
     "data": {
      "text/plain": [
       "array([  1.        ,   7.3890561 ,  54.59815003, 403.42879349])"
      ]
     },
     "execution_count": 5,
     "metadata": {},
     "output_type": "execute_result"
    }
   ],
   "source": [
    "np.exp(np.arange(0,8,2,dtype=float))"
   ]
  },
  {
   "cell_type": "code",
   "execution_count": 7,
   "id": "4f33b09f",
   "metadata": {},
   "outputs": [],
   "source": [
    "import math"
   ]
  },
  {
   "cell_type": "code",
   "execution_count": 8,
   "id": "dca29f9d",
   "metadata": {},
   "outputs": [
    {
     "data": {
      "text/plain": [
       "array([1.  , 0.01])"
      ]
     },
     "execution_count": 8,
     "metadata": {},
     "output_type": "execute_result"
    }
   ],
   "source": [
    "np.exp(np.arange(0,4,2,dtype=float)*(-math.log(10000.0)/4))"
   ]
  },
  {
   "cell_type": "code",
   "execution_count": 11,
   "id": "293e65e9",
   "metadata": {},
   "outputs": [],
   "source": [
    "pe = np.zeros((3,4))"
   ]
  },
  {
   "cell_type": "code",
   "execution_count": 13,
   "id": "7dcfcf00",
   "metadata": {},
   "outputs": [
    {
     "data": {
      "text/plain": [
       "(array([[0., 0.],\n",
       "        [0., 0.],\n",
       "        [0., 0.]]),\n",
       " array([[0., 0.],\n",
       "        [0., 0.],\n",
       "        [0., 0.]]))"
      ]
     },
     "execution_count": 13,
     "metadata": {},
     "output_type": "execute_result"
    }
   ],
   "source": [
    "pe[:,0::2],pe[:,1::2]"
   ]
  },
  {
   "cell_type": "code",
   "execution_count": 2,
   "id": "0a0ad2e8",
   "metadata": {},
   "outputs": [],
   "source": [
    "from nn import PositionalEcnoding,MultiHeadAttention"
   ]
  },
  {
   "cell_type": "code",
   "execution_count": 3,
   "id": "e0f52b02",
   "metadata": {},
   "outputs": [],
   "source": [
    "pe = PositionalEcnoding(4,3)"
   ]
  },
  {
   "cell_type": "code",
   "execution_count": 7,
   "id": "3aec27fc",
   "metadata": {},
   "outputs": [],
   "source": [
    "x = np.random.randn(3,4)"
   ]
  },
  {
   "cell_type": "code",
   "execution_count": 8,
   "id": "1851162d",
   "metadata": {},
   "outputs": [
    {
     "data": {
      "text/plain": [
       "array([[ 0.98715121, -0.23711054, -0.52197548, -1.0151971 ],\n",
       "       [-0.40349247,  0.44291966, -0.7079462 , -1.26090474],\n",
       "       [ 1.61697593,  0.44286343, -0.65353503,  0.37747418]])"
      ]
     },
     "execution_count": 8,
     "metadata": {},
     "output_type": "execute_result"
    }
   ],
   "source": [
    "x"
   ]
  },
  {
   "cell_type": "code",
   "execution_count": 13,
   "id": "148a1127",
   "metadata": {},
   "outputs": [],
   "source": [
    "pos_enc = pe(x)"
   ]
  },
  {
   "cell_type": "code",
   "execution_count": 15,
   "id": "9a369c30",
   "metadata": {},
   "outputs": [
    {
     "data": {
      "text/plain": [
       "numpy.ndarray"
      ]
     },
     "execution_count": 15,
     "metadata": {},
     "output_type": "execute_result"
    }
   ],
   "source": [
    "type(pos_enc)"
   ]
  },
  {
   "cell_type": "code",
   "execution_count": 5,
   "id": "07821deb",
   "metadata": {},
   "outputs": [
    {
     "data": {
      "text/plain": [
       "64"
      ]
     },
     "execution_count": 5,
     "metadata": {},
     "output_type": "execute_result"
    }
   ],
   "source": [
    "512//8"
   ]
  },
  {
   "cell_type": "code",
   "execution_count": 21,
   "id": "eadc4acf",
   "metadata": {},
   "outputs": [],
   "source": [
    "x = np.random.randn(4,512)\n",
    "y =np.random.randn(4,4)"
   ]
  },
  {
   "cell_type": "code",
   "execution_count": 23,
   "id": "a6deaeca",
   "metadata": {},
   "outputs": [],
   "source": [
    "wq = np.random.randn(512,512)\n",
    "wqh1 =np.dot(x[:,0:64],wq[0:64,:])"
   ]
  },
  {
   "cell_type": "code",
   "execution_count": 25,
   "id": "69a73b3f",
   "metadata": {},
   "outputs": [
    {
     "data": {
      "text/plain": [
       "(4, 512)"
      ]
     },
     "execution_count": 25,
     "metadata": {},
     "output_type": "execute_result"
    }
   ],
   "source": [
    "wqh1.shape"
   ]
  },
  {
   "cell_type": "code",
   "execution_count": 20,
   "id": "74881b76",
   "metadata": {},
   "outputs": [
    {
     "data": {
      "text/plain": [
       "(8, 4)"
      ]
     },
     "execution_count": 20,
     "metadata": {},
     "output_type": "execute_result"
    }
   ],
   "source": [
    "np.concatenate([x,y]).shape"
   ]
  },
  {
   "cell_type": "code",
   "execution_count": 27,
   "id": "1c3455ef",
   "metadata": {},
   "outputs": [
    {
     "data": {
      "text/plain": [
       "(8, 8)"
      ]
     },
     "execution_count": 27,
     "metadata": {},
     "output_type": "execute_result"
    }
   ],
   "source": [
    "a = np.random.randn(4,8)\n",
    "b = np.random.rand(4,8)\n",
    "np.concatenate([a,b]).shape"
   ]
  },
  {
   "cell_type": "code",
   "execution_count": 2,
   "id": "f9b63cbd",
   "metadata": {},
   "outputs": [],
   "source": [
    "from tensor import Tensor"
   ]
  },
  {
   "cell_type": "code",
   "execution_count": 3,
   "id": "67397516",
   "metadata": {},
   "outputs": [],
   "source": [
    "a = Tensor(3)"
   ]
  },
  {
   "cell_type": "code",
   "execution_count": 4,
   "id": "9537e61b",
   "metadata": {},
   "outputs": [
    {
     "data": {
      "text/plain": [
       "Tensor(1.7320508075688772, grad_fn=<PowBackward>)"
      ]
     },
     "execution_count": 4,
     "metadata": {},
     "output_type": "execute_result"
    }
   ],
   "source": [
    "np.sqrt(a)"
   ]
  },
  {
   "cell_type": "code",
   "execution_count": 5,
   "id": "f762b69f",
   "metadata": {},
   "outputs": [
    {
     "data": {
      "text/plain": [
       "1.7320508075688772"
      ]
     },
     "execution_count": 5,
     "metadata": {},
     "output_type": "execute_result"
    }
   ],
   "source": [
    "np.sqrt(3)"
   ]
  },
  {
   "cell_type": "code",
   "execution_count": 6,
   "id": "7e8de8f0",
   "metadata": {},
   "outputs": [],
   "source": [
    "q = np.random.randn(2,4,3)"
   ]
  },
  {
   "cell_type": "code",
   "execution_count": 7,
   "id": "fdaf30fc",
   "metadata": {},
   "outputs": [],
   "source": [
    "scores = np.matmul(q,q.transpose(0,2,1)) # Q*Kt ; matrix multiplication; shape(head, seq_len,seq_len)\n",
    "scores/= np.sqrt(2) # scaling by sq-root(dk)"
   ]
  },
  {
   "cell_type": "code",
   "execution_count": 1,
   "id": "26866646",
   "metadata": {},
   "outputs": [],
   "source": [
    "from nn import PositionalEcnoding,MultiHeadAttention\n",
    "from tensor import Tensor\n",
    "import numpy as np"
   ]
  },
  {
   "cell_type": "code",
   "execution_count": 2,
   "id": "4f7cd814",
   "metadata": {},
   "outputs": [],
   "source": [
    "mha = MultiHeadAttention(512,8)"
   ]
  },
  {
   "cell_type": "code",
   "execution_count": 3,
   "id": "29e4adc7",
   "metadata": {},
   "outputs": [],
   "source": [
    "x = np.random.randn(4,512)"
   ]
  },
  {
   "cell_type": "code",
   "execution_count": 4,
   "id": "cc536f5c",
   "metadata": {},
   "outputs": [],
   "source": [
    "output = mha.forward(x)"
   ]
  },
  {
   "cell_type": "code",
   "execution_count": 5,
   "id": "922f6cef",
   "metadata": {},
   "outputs": [
    {
     "data": {
      "text/plain": [
       "(4, 512)"
      ]
     },
     "execution_count": 5,
     "metadata": {},
     "output_type": "execute_result"
    }
   ],
   "source": [
    "output.shape"
   ]
  },
  {
   "cell_type": "code",
   "execution_count": 6,
   "id": "5eaef2c3",
   "metadata": {},
   "outputs": [
    {
     "data": {
      "text/plain": [
       "array([[Tensor(-4.551335751004077, grad_fn=<AddBackward>),\n",
       "        Tensor(-2.6722370158827373, grad_fn=<AddBackward>),\n",
       "        Tensor(-0.02198226154238625, grad_fn=<AddBackward>), ...,\n",
       "        Tensor(0.34355011937099267, grad_fn=<AddBackward>),\n",
       "        Tensor(1.8655004365717756, grad_fn=<AddBackward>),\n",
       "        Tensor(4.118713075538865, grad_fn=<AddBackward>)],\n",
       "       [Tensor(2.19640913799146, grad_fn=<AddBackward>),\n",
       "        Tensor(-1.1158302874390875, grad_fn=<AddBackward>),\n",
       "        Tensor(-7.589483178632664, grad_fn=<AddBackward>), ...,\n",
       "        Tensor(1.8491020034248338, grad_fn=<AddBackward>),\n",
       "        Tensor(1.8110812146760036, grad_fn=<AddBackward>),\n",
       "        Tensor(2.914769411480942, grad_fn=<AddBackward>)],\n",
       "       [Tensor(-1.8584360422607484, grad_fn=<AddBackward>),\n",
       "        Tensor(-2.857884032758778, grad_fn=<AddBackward>),\n",
       "        Tensor(-2.3160478134935603, grad_fn=<AddBackward>), ...,\n",
       "        Tensor(1.1345201943449346, grad_fn=<AddBackward>),\n",
       "        Tensor(0.07910310308684734, grad_fn=<AddBackward>),\n",
       "        Tensor(7.045518299045071, grad_fn=<AddBackward>)],\n",
       "       [Tensor(3.1680839267776264, grad_fn=<AddBackward>),\n",
       "        Tensor(-1.2693903693106319, grad_fn=<AddBackward>),\n",
       "        Tensor(-4.494561356321708, grad_fn=<AddBackward>), ...,\n",
       "        Tensor(-1.674734813356307, grad_fn=<AddBackward>),\n",
       "        Tensor(3.9728614778931854, grad_fn=<AddBackward>),\n",
       "        Tensor(-4.095692265781764, grad_fn=<AddBackward>)]], dtype=object)"
      ]
     },
     "execution_count": 6,
     "metadata": {},
     "output_type": "execute_result"
    }
   ],
   "source": [
    "output"
   ]
  },
  {
   "cell_type": "code",
   "execution_count": 12,
   "id": "77981572",
   "metadata": {},
   "outputs": [
    {
     "data": {
      "text/plain": [
       "array([[Tensor(-121.47617100734381, grad_fn=<AddBackward>),\n",
       "        Tensor(-72.54502718937418, grad_fn=<AddBackward>),\n",
       "        Tensor(484.3578411608605, grad_fn=<AddBackward>), ...,\n",
       "        Tensor(680.6831351938529, grad_fn=<AddBackward>),\n",
       "        Tensor(-297.7224704964656, grad_fn=<AddBackward>),\n",
       "        Tensor(527.3931254426542, grad_fn=<AddBackward>)],\n",
       "       [Tensor(-197.0257904435052, grad_fn=<AddBackward>),\n",
       "        Tensor(277.1025537510857, grad_fn=<AddBackward>),\n",
       "        Tensor(-1.1106454393125393, grad_fn=<AddBackward>), ...,\n",
       "        Tensor(589.1544881625871, grad_fn=<AddBackward>),\n",
       "        Tensor(-455.7268151811167, grad_fn=<AddBackward>),\n",
       "        Tensor(-208.18742678846954, grad_fn=<AddBackward>)],\n",
       "       [Tensor(-746.0902055435926, grad_fn=<AddBackward>),\n",
       "        Tensor(-19.270534824989582, grad_fn=<AddBackward>),\n",
       "        Tensor(95.58430353812841, grad_fn=<AddBackward>), ...,\n",
       "        Tensor(254.9213677350748, grad_fn=<AddBackward>),\n",
       "        Tensor(-877.5993469242328, grad_fn=<AddBackward>),\n",
       "        Tensor(6.632532917722764, grad_fn=<AddBackward>)],\n",
       "       [Tensor(58.856417052950874, grad_fn=<AddBackward>),\n",
       "        Tensor(462.32194645106836, grad_fn=<AddBackward>),\n",
       "        Tensor(551.0641311126114, grad_fn=<AddBackward>), ...,\n",
       "        Tensor(419.0668401232942, grad_fn=<AddBackward>),\n",
       "        Tensor(-696.1643965652889, grad_fn=<AddBackward>),\n",
       "        Tensor(162.67883991714004, grad_fn=<AddBackward>)]], dtype=object)"
      ]
     },
     "execution_count": 12,
     "metadata": {},
     "output_type": "execute_result"
    }
   ],
   "source": [
    "output"
   ]
  },
  {
   "cell_type": "code",
   "execution_count": 7,
   "id": "3bbcd464",
   "metadata": {},
   "outputs": [],
   "source": [
    "a = np.random.randn(4,5)"
   ]
  },
  {
   "cell_type": "code",
   "execution_count": 10,
   "id": "0c67ac7b",
   "metadata": {},
   "outputs": [
    {
     "data": {
      "text/plain": [
       "array([[ 0.68789904,  0.91942054,  1.15828316,  1.93715782,  0.64008033],\n",
       "       [ 1.71451435,  1.06411496, -0.71832199,  1.15125104,  0.15252911],\n",
       "       [ 0.19901719, -0.81865864, -1.03042105,  0.29804491,  0.11320987],\n",
       "       [ 0.85204124, -0.88845876, -2.19101534, -0.32647699, -0.01543775]])"
      ]
     },
     "execution_count": 10,
     "metadata": {},
     "output_type": "execute_result"
    }
   ],
   "source": [
    "a"
   ]
  },
  {
   "cell_type": "code",
   "execution_count": 9,
   "id": "26952174",
   "metadata": {},
   "outputs": [
    {
     "data": {
      "text/plain": [
       "array([[1.98953121, 2.50783679, 3.18446137, 6.93900106, 1.89663323],\n",
       "       [5.55397758, 2.89827275, 0.48756972, 3.16214642, 1.16477637],\n",
       "       [1.22020294, 0.44102283, 0.35685667, 1.34722229, 1.11986693],\n",
       "       [2.34442751, 0.41128916, 0.11180317, 0.72146097, 0.98468081]])"
      ]
     },
     "execution_count": 9,
     "metadata": {},
     "output_type": "execute_result"
    }
   ],
   "source": [
    "np.exp(a)"
   ]
  },
  {
   "cell_type": "code",
   "execution_count": 15,
   "id": "5fc02b7f",
   "metadata": {},
   "outputs": [
    {
     "data": {
      "text/plain": [
       "array([[0.12045016, 0.15182941, 0.19279361, 0.42010088, 0.11482594],\n",
       "       [0.41863912, 0.21846152, 0.03675128, 0.23835138, 0.08779671],\n",
       "       [0.27205267, 0.09832909, 0.07956366, 0.30037251, 0.24968207],\n",
       "       [0.51259313, 0.08992558, 0.024445  , 0.15774253, 0.21529376]])"
      ]
     },
     "execution_count": 15,
     "metadata": {},
     "output_type": "execute_result"
    }
   ],
   "source": [
    "np.exp(a)/np.sum(np.exp(a),axis=-1,keepdims=True)"
   ]
  },
  {
   "cell_type": "markdown",
   "id": "b3345b85",
   "metadata": {},
   "source": [
    "ADD Normalization and FFN"
   ]
  },
  {
   "cell_type": "code",
   "execution_count": 8,
   "id": "f16c3881",
   "metadata": {},
   "outputs": [],
   "source": [
    "from nn import MultiHeadAttention, LayerNorm, Softmax,Relu\n",
    "from tensor import Tensor\n",
    "import numpy as np"
   ]
  },
  {
   "cell_type": "code",
   "execution_count": 9,
   "id": "32192dfb",
   "metadata": {},
   "outputs": [],
   "source": [
    "x = np.random.randn(3,4)\n",
    "mha = MultiHeadAttention(4,2)"
   ]
  },
  {
   "cell_type": "code",
   "execution_count": 10,
   "id": "31e41adb",
   "metadata": {},
   "outputs": [],
   "source": [
    "output = mha(x)"
   ]
  },
  {
   "cell_type": "code",
   "execution_count": 11,
   "id": "4cd53b0e",
   "metadata": {},
   "outputs": [],
   "source": [
    "ln = LayerNorm(4,act=None)"
   ]
  },
  {
   "cell_type": "code",
   "execution_count": 12,
   "id": "0614664e",
   "metadata": {},
   "outputs": [
    {
     "data": {
      "text/plain": [
       "array([[Tensor(-6.639741243699108, grad_fn=<AddBackward>),\n",
       "        Tensor(2.360919585478614, grad_fn=<AddBackward>),\n",
       "        Tensor(-5.230112761700893, grad_fn=<AddBackward>),\n",
       "        Tensor(1.387294598025599, grad_fn=<AddBackward>)],\n",
       "       [Tensor(-6.633134762929001, grad_fn=<AddBackward>),\n",
       "        Tensor(4.883356826969166, grad_fn=<AddBackward>),\n",
       "        Tensor(-4.838258123784768, grad_fn=<AddBackward>),\n",
       "        Tensor(1.0706922009131499, grad_fn=<AddBackward>)],\n",
       "       [Tensor(3.0044524999981412, grad_fn=<AddBackward>),\n",
       "        Tensor(-1.9357024195057084, grad_fn=<AddBackward>),\n",
       "        Tensor(3.0998128129443865, grad_fn=<AddBackward>),\n",
       "        Tensor(-0.5540989580828817, grad_fn=<AddBackward>)]], dtype=object)"
      ]
     },
     "execution_count": 12,
     "metadata": {},
     "output_type": "execute_result"
    }
   ],
   "source": [
    "output"
   ]
  },
  {
   "cell_type": "code",
   "execution_count": 13,
   "id": "9c1e72fc",
   "metadata": {},
   "outputs": [
    {
     "data": {
      "text/plain": [
       "[Tensor(-1.1665590598767572, grad_fn=<AddBackward>),\n",
       " Tensor(1.1113857825730686, grad_fn=<AddBackward>),\n",
       " Tensor(-0.8098012627238158, grad_fn=<AddBackward>),\n",
       " Tensor(0.8649745400275043, grad_fn=<AddBackward>)]"
      ]
     },
     "execution_count": 13,
     "metadata": {},
     "output_type": "execute_result"
    }
   ],
   "source": [
    "ln(output[0].tolist())"
   ]
  },
  {
   "cell_type": "code",
   "execution_count": 14,
   "id": "33b3bb50",
   "metadata": {},
   "outputs": [
    {
     "data": {
      "text/plain": [
       "[[Tensor(-1.1665590598767572, grad_fn=<AddBackward>),\n",
       "  Tensor(1.1113857825730686, grad_fn=<AddBackward>),\n",
       "  Tensor(-0.8098012627238158, grad_fn=<AddBackward>),\n",
       "  Tensor(0.8649745400275043, grad_fn=<AddBackward>)],\n",
       " [Tensor(-1.1411158123756857, grad_fn=<AddBackward>),\n",
       "  Tensor(1.3602458044365107, grad_fn=<AddBackward>),\n",
       "  Tensor(-0.7512717789717627, grad_fn=<AddBackward>),\n",
       "  Tensor(0.5321417869109377, grad_fn=<AddBackward>)],\n",
       " [Tensor(0.9533635603985109, grad_fn=<AddBackward>),\n",
       "  Tensor(-1.288488029075899, grad_fn=<AddBackward>),\n",
       "  Tensor(0.9966382496814915, grad_fn=<AddBackward>),\n",
       "  Tensor(-0.661513781004103, grad_fn=<AddBackward>)]]"
      ]
     },
     "execution_count": 14,
     "metadata": {},
     "output_type": "execute_result"
    }
   ],
   "source": [
    "ln(output)"
   ]
  },
  {
   "cell_type": "code",
   "execution_count": 15,
   "id": "b33d862a",
   "metadata": {},
   "outputs": [
    {
     "data": {
      "text/plain": [
       "array([[Tensor(-6.639741243699108, grad_fn=<AddBackward>),\n",
       "        Tensor(2.360919585478614, grad_fn=<AddBackward>),\n",
       "        Tensor(-5.230112761700893, grad_fn=<AddBackward>),\n",
       "        Tensor(1.387294598025599, grad_fn=<AddBackward>)],\n",
       "       [Tensor(-6.633134762929001, grad_fn=<AddBackward>),\n",
       "        Tensor(4.883356826969166, grad_fn=<AddBackward>),\n",
       "        Tensor(-4.838258123784768, grad_fn=<AddBackward>),\n",
       "        Tensor(1.0706922009131499, grad_fn=<AddBackward>)],\n",
       "       [Tensor(3.0044524999981412, grad_fn=<AddBackward>),\n",
       "        Tensor(-1.9357024195057084, grad_fn=<AddBackward>),\n",
       "        Tensor(3.0998128129443865, grad_fn=<AddBackward>),\n",
       "        Tensor(-0.5540989580828817, grad_fn=<AddBackward>)]], dtype=object)"
      ]
     },
     "execution_count": 15,
     "metadata": {},
     "output_type": "execute_result"
    }
   ],
   "source": [
    "output"
   ]
  },
  {
   "cell_type": "code",
   "execution_count": 16,
   "id": "6a839a1c",
   "metadata": {},
   "outputs": [
    {
     "data": {
      "text/plain": [
       "[Tensor(-1.1665590598767572, grad_fn=<AddBackward>),\n",
       " Tensor(1.1113857825730686, grad_fn=<AddBackward>),\n",
       " Tensor(-0.8098012627238158, grad_fn=<AddBackward>),\n",
       " Tensor(0.8649745400275043, grad_fn=<AddBackward>)]"
      ]
     },
     "execution_count": 16,
     "metadata": {},
     "output_type": "execute_result"
    }
   ],
   "source": [
    "ln(output[0])"
   ]
  },
  {
   "cell_type": "code",
   "execution_count": null,
   "id": "63388900",
   "metadata": {},
   "outputs": [],
   "source": []
  }
 ],
 "metadata": {
  "kernelspec": {
   "display_name": "Python 3",
   "language": "python",
   "name": "python3"
  },
  "language_info": {
   "codemirror_mode": {
    "name": "ipython",
    "version": 3
   },
   "file_extension": ".py",
   "mimetype": "text/x-python",
   "name": "python",
   "nbconvert_exporter": "python",
   "pygments_lexer": "ipython3",
   "version": "3.10.0"
  }
 },
 "nbformat": 4,
 "nbformat_minor": 5
}
