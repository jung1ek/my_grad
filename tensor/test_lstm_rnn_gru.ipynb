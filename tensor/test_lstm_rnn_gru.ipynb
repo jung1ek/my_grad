{
 "cells": [
  {
   "cell_type": "code",
   "execution_count": 1,
   "id": "6ad2c5df",
   "metadata": {},
   "outputs": [],
   "source": [
    "import numpy as np\n",
    "from tensor import Tensor\n",
    "from nn import Sigmoid,LSTM"
   ]
  },
  {
   "cell_type": "code",
   "execution_count": 2,
   "id": "68728f3e",
   "metadata": {},
   "outputs": [],
   "source": [
    "# LSTM Implementation\n",
    "k = 1/4\n",
    "bound = np.sqrt(k)\n",
    "hidden_size =4\n",
    "input_size = 2"
   ]
  },
  {
   "cell_type": "code",
   "execution_count": 3,
   "id": "60a7dce9",
   "metadata": {},
   "outputs": [],
   "source": [
    "random_wf = np.random.uniform(-bound,bound,(hidden_size,hidden_size))\n",
    "random_uf = np.random.uniform(-bound,bound,(hidden_size,input_size))\n",
    "random_bf = np.random.uniform(-bound,bound,size=(hidden_size))"
   ]
  },
  {
   "cell_type": "code",
   "execution_count": 2,
   "id": "643d8774",
   "metadata": {},
   "outputs": [],
   "source": [
    "x = np.random.randn(3,2)\n",
    "h = np.random.randn(4)"
   ]
  },
  {
   "cell_type": "code",
   "execution_count": 5,
   "id": "7f5915dd",
   "metadata": {},
   "outputs": [],
   "source": [
    "f = np.dot(random_uf,x[0]) + np.dot(random_wf,h)+random_bf"
   ]
  },
  {
   "cell_type": "code",
   "execution_count": 6,
   "id": "f24d4581",
   "metadata": {},
   "outputs": [],
   "source": [
    "sigmoid = Sigmoid()"
   ]
  },
  {
   "cell_type": "code",
   "execution_count": 9,
   "id": "bbd65679",
   "metadata": {},
   "outputs": [
    {
     "data": {
      "text/plain": [
       "array([1.28189369e-01, 1.90469072e+00, 5.04960786e-02, 1.85029887e-03])"
      ]
     },
     "execution_count": 9,
     "metadata": {},
     "output_type": "execute_result"
    }
   ],
   "source": [
    "f*f"
   ]
  },
  {
   "cell_type": "code",
   "execution_count": null,
   "id": "5a69614e",
   "metadata": {},
   "outputs": [
    {
     "data": {
      "text/plain": [
       "array([Tensor(0.4114352159642986, grad_fn=<SigmoidBackward>),\n",
       "       Tensor(0.7990079159547252, grad_fn=<SigmoidBackward>),\n",
       "       Tensor(0.4440568797887326, grad_fn=<SigmoidBackward>),\n",
       "       Tensor(0.48924788272490993, grad_fn=<SigmoidBackward>)],\n",
       "      dtype=object)"
      ]
     },
     "execution_count": 8,
     "metadata": {},
     "output_type": "execute_result"
    }
   ],
   "source": [
    "sigmoid(f) # "
   ]
  },
  {
   "cell_type": "code",
   "execution_count": 3,
   "id": "601e6207",
   "metadata": {},
   "outputs": [],
   "source": [
    "lstm = LSTM(2,4)"
   ]
  },
  {
   "cell_type": "code",
   "execution_count": 10,
   "id": "f27bb111",
   "metadata": {},
   "outputs": [],
   "source": [
    "output,h,s = lstm.forward(x)"
   ]
  },
  {
   "cell_type": "code",
   "execution_count": 11,
   "id": "db7bf1b4",
   "metadata": {},
   "outputs": [
    {
     "data": {
      "text/plain": [
       "array([Tensor(0.8832316691201477, grad_fn=<AddBackward>),\n",
       "       Tensor(0.37598507400950737, grad_fn=<AddBackward>),\n",
       "       Tensor(0.5081084425584506, grad_fn=<AddBackward>),\n",
       "       Tensor(0.5162766265663502, grad_fn=<AddBackward>)], dtype=object)"
      ]
     },
     "execution_count": 11,
     "metadata": {},
     "output_type": "execute_result"
    }
   ],
   "source": [
    "s"
   ]
  },
  {
   "cell_type": "code",
   "execution_count": 13,
   "id": "9202d24a",
   "metadata": {},
   "outputs": [
    {
     "data": {
      "text/plain": [
       "112"
      ]
     },
     "execution_count": 13,
     "metadata": {},
     "output_type": "execute_result"
    }
   ],
   "source": [
    "len(lstm.parameters())"
   ]
  },
  {
   "cell_type": "code",
   "execution_count": null,
   "id": "fcc1fb25",
   "metadata": {},
   "outputs": [],
   "source": []
  }
 ],
 "metadata": {
  "kernelspec": {
   "display_name": "Python 3",
   "language": "python",
   "name": "python3"
  },
  "language_info": {
   "codemirror_mode": {
    "name": "ipython",
    "version": 3
   },
   "file_extension": ".py",
   "mimetype": "text/x-python",
   "name": "python",
   "nbconvert_exporter": "python",
   "pygments_lexer": "ipython3",
   "version": "3.10.0"
  }
 },
 "nbformat": 4,
 "nbformat_minor": 5
}
