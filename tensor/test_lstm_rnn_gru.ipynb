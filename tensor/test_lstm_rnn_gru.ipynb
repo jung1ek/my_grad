{
 "cells": [
  {
   "cell_type": "code",
   "execution_count": 7,
   "id": "6ad2c5df",
   "metadata": {},
   "outputs": [],
   "source": [
    "import numpy as np\n",
    "from tensor import Tensor\n",
    "from nn import Sigmoid,LSTM"
   ]
  },
  {
   "cell_type": "code",
   "execution_count": 8,
   "id": "68728f3e",
   "metadata": {},
   "outputs": [],
   "source": [
    "# LSTM Implementation\n",
    "k = 1/4\n",
    "bound = np.sqrt(k)\n",
    "hidden_size =4\n",
    "input_size = 2"
   ]
  },
  {
   "cell_type": "code",
   "execution_count": 9,
   "id": "60a7dce9",
   "metadata": {},
   "outputs": [],
   "source": [
    "random_wf = np.random.uniform(-bound,bound,(hidden_size,hidden_size))\n",
    "random_uf = np.random.uniform(-bound,bound,(hidden_size,input_size))\n",
    "random_bf = np.random.uniform(-bound,bound,size=(hidden_size))"
   ]
  },
  {
   "cell_type": "code",
   "execution_count": 10,
   "id": "643d8774",
   "metadata": {},
   "outputs": [],
   "source": [
    "x = np.random.randn(3,2)\n",
    "h = np.random.randn(4)"
   ]
  },
  {
   "cell_type": "code",
   "execution_count": 11,
   "id": "7f5915dd",
   "metadata": {},
   "outputs": [],
   "source": [
    "f = np.dot(random_uf,x[0]) + np.dot(random_wf,h)+random_bf"
   ]
  },
  {
   "cell_type": "code",
   "execution_count": 6,
   "id": "f24d4581",
   "metadata": {},
   "outputs": [],
   "source": [
    "sigmoid = Sigmoid()"
   ]
  },
  {
   "cell_type": "code",
   "execution_count": 9,
   "id": "bbd65679",
   "metadata": {},
   "outputs": [
    {
     "data": {
      "text/plain": [
       "array([1.28189369e-01, 1.90469072e+00, 5.04960786e-02, 1.85029887e-03])"
      ]
     },
     "execution_count": 9,
     "metadata": {},
     "output_type": "execute_result"
    }
   ],
   "source": [
    "f*f"
   ]
  },
  {
   "cell_type": "code",
   "execution_count": null,
   "id": "5a69614e",
   "metadata": {},
   "outputs": [
    {
     "data": {
      "text/plain": [
       "array([Tensor(0.4114352159642986, grad_fn=<SigmoidBackward>),\n",
       "       Tensor(0.7990079159547252, grad_fn=<SigmoidBackward>),\n",
       "       Tensor(0.4440568797887326, grad_fn=<SigmoidBackward>),\n",
       "       Tensor(0.48924788272490993, grad_fn=<SigmoidBackward>)],\n",
       "      dtype=object)"
      ]
     },
     "execution_count": 8,
     "metadata": {},
     "output_type": "execute_result"
    }
   ],
   "source": [
    "sigmoid(f) # "
   ]
  },
  {
   "cell_type": "code",
   "execution_count": 9,
   "id": "601e6207",
   "metadata": {},
   "outputs": [],
   "source": [
    "lstm = LSTM(2,4)"
   ]
  },
  {
   "cell_type": "code",
   "execution_count": 10,
   "id": "f27bb111",
   "metadata": {},
   "outputs": [],
   "source": [
    "output,h,s = lstm.forward(x)"
   ]
  },
  {
   "cell_type": "code",
   "execution_count": 11,
   "id": "db7bf1b4",
   "metadata": {},
   "outputs": [
    {
     "data": {
      "text/plain": [
       "array([Tensor(0.8832316691201477, grad_fn=<AddBackward>),\n",
       "       Tensor(0.37598507400950737, grad_fn=<AddBackward>),\n",
       "       Tensor(0.5081084425584506, grad_fn=<AddBackward>),\n",
       "       Tensor(0.5162766265663502, grad_fn=<AddBackward>)], dtype=object)"
      ]
     },
     "execution_count": 11,
     "metadata": {},
     "output_type": "execute_result"
    }
   ],
   "source": [
    "s"
   ]
  },
  {
   "cell_type": "code",
   "execution_count": 13,
   "id": "9202d24a",
   "metadata": {},
   "outputs": [
    {
     "data": {
      "text/plain": [
       "112"
      ]
     },
     "execution_count": 13,
     "metadata": {},
     "output_type": "execute_result"
    }
   ],
   "source": [
    "len(lstm.parameters())"
   ]
  },
  {
   "cell_type": "code",
   "execution_count": 14,
   "id": "fcc1fb25",
   "metadata": {},
   "outputs": [
    {
     "data": {
      "text/plain": [
       "112"
      ]
     },
     "execution_count": 14,
     "metadata": {},
     "output_type": "execute_result"
    }
   ],
   "source": [
    "(4*4+4*2+4)*4"
   ]
  },
  {
   "cell_type": "code",
   "execution_count": 12,
   "id": "3cf0ea4f",
   "metadata": {},
   "outputs": [],
   "source": [
    "# GRU\n",
    "from nn import GRU"
   ]
  },
  {
   "cell_type": "code",
   "execution_count": 13,
   "id": "bcc7fa96",
   "metadata": {},
   "outputs": [],
   "source": [
    "gru= GRU(2,4)"
   ]
  },
  {
   "cell_type": "code",
   "execution_count": 15,
   "id": "7810d79f",
   "metadata": {},
   "outputs": [],
   "source": [
    "output,h=gru.forward(x)"
   ]
  },
  {
   "cell_type": "code",
   "execution_count": null,
   "id": "096dd99f",
   "metadata": {},
   "outputs": [
    {
     "data": {
      "text/plain": [
       "array([Tensor(0.5035130039846237, grad_fn=<AddBackward>),\n",
       "       Tensor(0.526806632013153, grad_fn=<AddBackward>),\n",
       "       Tensor(0.23293936475373767, grad_fn=<AddBackward>),\n",
       "       Tensor(0.40876695886780007, grad_fn=<AddBackward>)], dtype=object)"
      ]
     },
     "execution_count": 11,
     "metadata": {},
     "output_type": "execute_result"
    }
   ],
   "source": [
    "s"
   ]
  },
  {
   "cell_type": "code",
   "execution_count": 14,
   "id": "163f648e",
   "metadata": {},
   "outputs": [
    {
     "ename": "TypeError",
     "evalue": "unsupported operand type(s) for +: 'int' and 'Tensor'",
     "output_type": "error",
     "traceback": [
      "\u001b[1;31m---------------------------------------------------------------------------\u001b[0m",
      "\u001b[1;31mTypeError\u001b[0m                                 Traceback (most recent call last)",
      "Cell \u001b[1;32mIn[14], line 1\u001b[0m\n\u001b[1;32m----> 1\u001b[0m \u001b[43mTensor\u001b[49m\u001b[43m(\u001b[49m\u001b[38;5;241;43m1\u001b[39;49m\u001b[43m)\u001b[49m\u001b[38;5;241;43m-\u001b[39;49m\u001b[43ms\u001b[49m\n",
      "File \u001b[1;32mc:\\Users\\Jung__tek\\Desktop\\DL-scratch\\my_grad\\tensor\\tensor.py:111\u001b[0m, in \u001b[0;36mTensor.__sub__\u001b[1;34m(self, other)\u001b[0m\n\u001b[0;32m    109\u001b[0m \u001b[38;5;28;01mdef\u001b[39;00m \u001b[38;5;21m__sub__\u001b[39m(\u001b[38;5;28mself\u001b[39m, other):\n\u001b[0;32m    110\u001b[0m     other \u001b[38;5;241m=\u001b[39m other \u001b[38;5;28;01mif\u001b[39;00m \u001b[38;5;28misinstance\u001b[39m(other, Tensor) \u001b[38;5;28;01melse\u001b[39;00m Tensor(other)\n\u001b[1;32m--> 111\u001b[0m     \u001b[38;5;28;01mreturn\u001b[39;00m \u001b[43mF\u001b[49m\u001b[38;5;241;43m.\u001b[39;49m\u001b[43mSub\u001b[49m\u001b[38;5;241;43m.\u001b[39;49m\u001b[43mapply\u001b[49m\u001b[43m(\u001b[49m\u001b[38;5;28;43mself\u001b[39;49m\u001b[43m,\u001b[49m\u001b[43m \u001b[49m\u001b[43mother\u001b[49m\u001b[43m)\u001b[49m\n",
      "File \u001b[1;32mc:\\Users\\Jung__tek\\Desktop\\DL-scratch\\my_grad\\tensor\\tensor.py:34\u001b[0m, in \u001b[0;36mFunction.apply\u001b[1;34m(cls, *inputs)\u001b[0m\n\u001b[0;32m     31\u001b[0m ctx \u001b[38;5;241m=\u001b[39m Context() \u001b[38;5;66;03m# iniatialize the context\u001b[39;00m\n\u001b[0;32m     33\u001b[0m inputs \u001b[38;5;241m=\u001b[39m [inp \u001b[38;5;28;01mif\u001b[39;00m \u001b[38;5;28misinstance\u001b[39m(inp, Tensor) \u001b[38;5;28;01melse\u001b[39;00m Tensor(inp) \u001b[38;5;28;01mfor\u001b[39;00m inp \u001b[38;5;129;01min\u001b[39;00m inputs]  \u001b[38;5;66;03m# validate the *inputs (which is a and b)\u001b[39;00m\n\u001b[1;32m---> 34\u001b[0m output_data \u001b[38;5;241m=\u001b[39m \u001b[38;5;28;43mcls\u001b[39;49m\u001b[38;5;241;43m.\u001b[39;49m\u001b[43mforward\u001b[49m\u001b[43m(\u001b[49m\u001b[43mctx\u001b[49m\u001b[43m,\u001b[49m\u001b[38;5;241;43m*\u001b[39;49m\u001b[43minputs\u001b[49m\u001b[43m)\u001b[49m \u001b[38;5;66;03m# operation; * sends arguments as tuple\u001b[39;00m\n\u001b[0;32m     37\u001b[0m output \u001b[38;5;241m=\u001b[39m Tensor(output_data) \u001b[38;5;66;03m# eg: output = f, f(a,b) = a*b\u001b[39;00m\n\u001b[0;32m     38\u001b[0m output\u001b[38;5;241m.\u001b[39mgrad_fn \u001b[38;5;241m=\u001b[39m \u001b[38;5;28mcls\u001b[39m \u001b[38;5;66;03m# Link the Function to the output Tensor\u001b[39;00m\n",
      "File \u001b[1;32mc:\\Users\\Jung__tek\\Desktop\\DL-scratch\\my_grad\\tensor\\function.py:94\u001b[0m, in \u001b[0;36mSub.forward\u001b[1;34m(ctx, a, b)\u001b[0m\n\u001b[0;32m     91\u001b[0m \u001b[38;5;129m@staticmethod\u001b[39m\n\u001b[0;32m     92\u001b[0m \u001b[38;5;28;01mdef\u001b[39;00m \u001b[38;5;21mforward\u001b[39m(ctx, a,b):\n\u001b[0;32m     93\u001b[0m     ctx\u001b[38;5;241m.\u001b[39msave_for_backward(a,b)\n\u001b[1;32m---> 94\u001b[0m     \u001b[38;5;28;01mreturn\u001b[39;00m \u001b[43ma\u001b[49m\u001b[38;5;241;43m.\u001b[39;49m\u001b[43mdata\u001b[49m\u001b[43m \u001b[49m\u001b[38;5;241;43m+\u001b[39;49m\u001b[43m \u001b[49m\u001b[43m(\u001b[49m\u001b[38;5;241;43m-\u001b[39;49m\u001b[43mb\u001b[49m\u001b[38;5;241;43m.\u001b[39;49m\u001b[43mdata\u001b[49m\u001b[43m)\u001b[49m\n",
      "\u001b[1;31mTypeError\u001b[0m: unsupported operand type(s) for +: 'int' and 'Tensor'"
     ]
    }
   ],
   "source": [
    "Tensor(1)-s"
   ]
  },
  {
   "cell_type": "code",
   "execution_count": 16,
   "id": "694eda08",
   "metadata": {},
   "outputs": [],
   "source": [
    "a = np.random.randn(4)"
   ]
  },
  {
   "cell_type": "code",
   "execution_count": 17,
   "id": "110fd4f5",
   "metadata": {},
   "outputs": [
    {
     "data": {
      "text/plain": [
       "array([ 1.44984457, -1.12311203,  0.27402535,  0.30952411])"
      ]
     },
     "execution_count": 17,
     "metadata": {},
     "output_type": "execute_result"
    }
   ],
   "source": [
    "a"
   ]
  },
  {
   "cell_type": "code",
   "execution_count": 18,
   "id": "66f0d1d5",
   "metadata": {},
   "outputs": [
    {
     "data": {
      "text/plain": [
       "array([-0.44984457,  2.12311203,  0.72597465,  0.69047589])"
      ]
     },
     "execution_count": 18,
     "metadata": {},
     "output_type": "execute_result"
    }
   ],
   "source": [
    "1-a"
   ]
  },
  {
   "cell_type": "code",
   "execution_count": 20,
   "id": "e82b2412",
   "metadata": {},
   "outputs": [
    {
     "data": {
      "text/plain": [
       "Tensor(0.49648699601537627, grad_fn=<SubBackward>)"
      ]
     },
     "execution_count": 20,
     "metadata": {},
     "output_type": "execute_result"
    }
   ],
   "source": [
    "Tensor(1)-s[0]"
   ]
  },
  {
   "cell_type": "code",
   "execution_count": 26,
   "id": "c733a970",
   "metadata": {},
   "outputs": [
    {
     "data": {
      "text/plain": [
       "array([Tensor(0.49648699601537627, grad_fn=<AddBackward>),\n",
       "       Tensor(0.47319336798684697, grad_fn=<AddBackward>),\n",
       "       Tensor(0.7670606352462623, grad_fn=<AddBackward>),\n",
       "       Tensor(0.5912330411322, grad_fn=<AddBackward>)], dtype=object)"
      ]
     },
     "execution_count": 26,
     "metadata": {},
     "output_type": "execute_result"
    }
   ],
   "source": [
    "-s+Tensor(1)"
   ]
  },
  {
   "cell_type": "code",
   "execution_count": 27,
   "id": "daad90ba",
   "metadata": {},
   "outputs": [
    {
     "data": {
      "text/plain": [
       "array([Tensor(0.5035130039846237, grad_fn=<AddBackward>),\n",
       "       Tensor(0.526806632013153, grad_fn=<AddBackward>),\n",
       "       Tensor(0.23293936475373767, grad_fn=<AddBackward>),\n",
       "       Tensor(0.40876695886780007, grad_fn=<AddBackward>)], dtype=object)"
      ]
     },
     "execution_count": 27,
     "metadata": {},
     "output_type": "execute_result"
    }
   ],
   "source": [
    "s"
   ]
  },
  {
   "cell_type": "code",
   "execution_count": 16,
   "id": "48c127b9",
   "metadata": {},
   "outputs": [
    {
     "data": {
      "text/plain": [
       "array([Tensor(-0.4222678966583345, grad_fn=<NegBackward>),\n",
       "       Tensor(-0.4816583691124943, grad_fn=<NegBackward>),\n",
       "       Tensor(-0.4006081370934891, grad_fn=<NegBackward>),\n",
       "       Tensor(-0.5540443739887331, grad_fn=<NegBackward>)], dtype=object)"
      ]
     },
     "execution_count": 16,
     "metadata": {},
     "output_type": "execute_result"
    }
   ],
   "source": [
    "-h"
   ]
  },
  {
   "cell_type": "code",
   "execution_count": 17,
   "id": "29578df8",
   "metadata": {},
   "outputs": [
    {
     "data": {
      "text/plain": [
       "array([Tensor(0.4222678966583345, grad_fn=<AddBackward>),\n",
       "       Tensor(0.4816583691124943, grad_fn=<AddBackward>),\n",
       "       Tensor(0.4006081370934891, grad_fn=<AddBackward>),\n",
       "       Tensor(0.5540443739887331, grad_fn=<AddBackward>)], dtype=object)"
      ]
     },
     "execution_count": 17,
     "metadata": {},
     "output_type": "execute_result"
    }
   ],
   "source": [
    "h"
   ]
  },
  {
   "cell_type": "code",
   "execution_count": null,
   "id": "5a0c2806",
   "metadata": {},
   "outputs": [],
   "source": []
  }
 ],
 "metadata": {
  "kernelspec": {
   "display_name": "Python 3",
   "language": "python",
   "name": "python3"
  },
  "language_info": {
   "codemirror_mode": {
    "name": "ipython",
    "version": 3
   },
   "file_extension": ".py",
   "mimetype": "text/x-python",
   "name": "python",
   "nbconvert_exporter": "python",
   "pygments_lexer": "ipython3",
   "version": "3.10.0"
  }
 },
 "nbformat": 4,
 "nbformat_minor": 5
}
