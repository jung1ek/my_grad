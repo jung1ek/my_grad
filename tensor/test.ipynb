{
 "cells": [
  {
   "cell_type": "code",
   "execution_count": 1,
   "metadata": {},
   "outputs": [],
   "source": [
    "from tensor import Tensor"
   ]
  },
  {
   "cell_type": "code",
   "execution_count": 3,
   "metadata": {},
   "outputs": [
    {
     "name": "stdout",
     "output_type": "stream",
     "text": [
      "output: Tensor(1.0, grad_fn=<TanhBackward>)\n",
      "a.grad : 4.0\n",
      "b.grad : 4.0\n",
      "c.grad : 5.0\n"
     ]
    },
    {
     "data": {
      "text/plain": [
       "(Tensor(20.0, grad_fn=<MultiplyBackward>), Tensor(5.0, grad_fn=<AddBackward>))"
      ]
     },
     "execution_count": 3,
     "metadata": {},
     "output_type": "execute_result"
    }
   ],
   "source": [
    "a = Tensor(2.0)\n",
    "b = Tensor(3.0)\n",
    "f = a+b\n",
    "c = Tensor(4.0)\n",
    "f1 = f*c\n",
    "f2 = f1.tanh()\n",
    "\n",
    "f1.backward()\n",
    "print(\"output: {}\".format(f2))\n",
    "\n",
    "print(\"a.grad : {}\".format(a.grad))\n",
    "print(\"b.grad : {}\".format(b.grad))\n",
    "print(\"c.grad : {}\".format(c.grad))\n",
    "f1,f"
   ]
  },
  {
   "cell_type": "code",
   "execution_count": 4,
   "metadata": {},
   "outputs": [
    {
     "name": "stdout",
     "output_type": "stream",
     "text": [
      "a.grad : 24.0\n",
      "b.grad : 16.0\n",
      "c.grad : 12.0\n"
     ]
    }
   ],
   "source": [
    "f2 = a * b *c\n",
    "f2.backward()\n",
    "print(\"a.grad : {}\".format(a.grad))\n",
    "print(\"b.grad : {}\".format(b.grad))\n",
    "print(\"c.grad : {}\".format(c.grad))"
   ]
  },
  {
   "cell_type": "code",
   "execution_count": 7,
   "metadata": {},
   "outputs": [],
   "source": [
    "def save(*inputs):\n",
    "    saved_tensors = inputs\n",
    "    print(saved_tensors)"
   ]
  },
  {
   "cell_type": "code",
   "execution_count": 6,
   "metadata": {},
   "outputs": [],
   "source": [
    "import torch"
   ]
  },
  {
   "cell_type": "code",
   "execution_count": 7,
   "metadata": {},
   "outputs": [],
   "source": [
    "# torch.Tensor only takes sequence value [1,2,3]\n",
    "x = torch.Tensor([2.0])\n",
    "x.requires_grad = False\n",
    "y = torch.Tensor([3.0])\n",
    "y.requires_grad = True\n",
    "\n",
    "f = x*y"
   ]
  },
  {
   "cell_type": "code",
   "execution_count": 8,
   "metadata": {},
   "outputs": [
    {
     "data": {
      "text/plain": [
       "(None, tensor([2.]))"
      ]
     },
     "execution_count": 8,
     "metadata": {},
     "output_type": "execute_result"
    }
   ],
   "source": [
    "f.backward()\n",
    "x.grad,y.grad"
   ]
  },
  {
   "cell_type": "code",
   "execution_count": 9,
   "metadata": {},
   "outputs": [
    {
     "data": {
      "text/plain": [
       "tensor([6.], grad_fn=<MulBackward0>)"
      ]
     },
     "execution_count": 9,
     "metadata": {},
     "output_type": "execute_result"
    }
   ],
   "source": [
    "f"
   ]
  },
  {
   "cell_type": "code",
   "execution_count": null,
   "metadata": {},
   "outputs": [],
   "source": []
  }
 ],
 "metadata": {
  "kernelspec": {
   "display_name": "Python 3",
   "language": "python",
   "name": "python3"
  },
  "language_info": {
   "codemirror_mode": {
    "name": "ipython",
    "version": 3
   },
   "file_extension": ".py",
   "mimetype": "text/x-python",
   "name": "python",
   "nbconvert_exporter": "python",
   "pygments_lexer": "ipython3",
   "version": "3.10.0"
  }
 },
 "nbformat": 4,
 "nbformat_minor": 2
}
