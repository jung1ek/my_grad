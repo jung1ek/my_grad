{
 "cells": [
  {
   "cell_type": "code",
   "execution_count": 1,
   "metadata": {},
   "outputs": [],
   "source": [
    "from tensor import Tensor"
   ]
  },
  {
   "cell_type": "code",
   "execution_count": null,
   "metadata": {},
   "outputs": [],
   "source": [
    "a = Tensor(2.0)\n",
    "b = Tensor(3.0)\n",
    "\n",
    "f = a+b\n",
    "c = Tensor(4.0)\n",
    "f1 = f*c\n",
    "f2 = f1.tanh()\n",
    "\n",
    "f1.backward()\n",
    "print(\"output: {}\".format(f2))\n",
    "\n",
    "print(\"a.grad : {}\".format(a.grad))\n",
    "print(\"b.grad : {}\".format(b.grad))\n",
    "print(\"c.grad : {}\".format(c.grad))\n",
    "f1,f"
   ]
  },
  {
   "cell_type": "code",
   "execution_count": null,
   "metadata": {},
   "outputs": [],
   "source": [
    "b.requires_grad = True\n",
    "print(b.grad)"
   ]
  },
  {
   "cell_type": "code",
   "execution_count": null,
   "metadata": {},
   "outputs": [],
   "source": [
    "f2 = a * b *c\n",
    "f2.backward()\n",
    "print(\"a.grad : {}\".format(a.grad))\n",
    "print(\"b.grad : {}\".format(b.grad))\n",
    "print(\"c.grad : {}\".format(c.grad))"
   ]
  },
  {
   "cell_type": "code",
   "execution_count": 7,
   "metadata": {},
   "outputs": [],
   "source": [
    "def save(*inputs):\n",
    "    saved_tensors = inputs\n",
    "    print(saved_tensors)"
   ]
  },
  {
   "cell_type": "code",
   "execution_count": 5,
   "metadata": {},
   "outputs": [],
   "source": [
    "import torch"
   ]
  },
  {
   "cell_type": "code",
   "execution_count": 6,
   "metadata": {},
   "outputs": [],
   "source": [
    "# torch.Tensor only takes sequence value [1,2,3]\n",
    "x = torch.Tensor([2.0])\n",
    "x.requires_grad = False\n",
    "y = torch.Tensor([3.0])\n",
    "y.requires_grad = True\n",
    "\n",
    "f = x*y"
   ]
  },
  {
   "cell_type": "code",
   "execution_count": null,
   "metadata": {},
   "outputs": [],
   "source": [
    "f.backward()\n",
    "x.grad,y.grad"
   ]
  },
  {
   "cell_type": "code",
   "execution_count": null,
   "metadata": {},
   "outputs": [],
   "source": [
    "f"
   ]
  },
  {
   "cell_type": "code",
   "execution_count": null,
   "metadata": {},
   "outputs": [],
   "source": [
    "import sys\n",
    "print(sys.version)"
   ]
  },
  {
   "cell_type": "code",
   "execution_count": 1,
   "metadata": {},
   "outputs": [],
   "source": [
    "from nn import MLP"
   ]
  },
  {
   "cell_type": "code",
   "execution_count": 2,
   "metadata": {},
   "outputs": [],
   "source": [
    "model = MLP(3,(2,3,1))\n",
    "a = [1,2,3]"
   ]
  },
  {
   "cell_type": "code",
   "execution_count": 3,
   "metadata": {},
   "outputs": [
    {
     "data": {
      "text/plain": [
       "[Tensor(0.29624916167243354, grad_fn=<NoneBackward>),\n",
       " Tensor(0.8090677156733267, grad_fn=<NoneBackward>),\n",
       " Tensor(0.35025252522341144, grad_fn=<NoneBackward>),\n",
       " Tensor(1.0, grad_fn=<NoneBackward>),\n",
       " Tensor(0.29624916167243354, grad_fn=<NoneBackward>),\n",
       " Tensor(0.8090677156733267, grad_fn=<NoneBackward>),\n",
       " Tensor(0.35025252522341144, grad_fn=<NoneBackward>),\n",
       " Tensor(1.0, grad_fn=<NoneBackward>),\n",
       " Tensor(0.29624916167243354, grad_fn=<NoneBackward>),\n",
       " Tensor(0.8090677156733267, grad_fn=<NoneBackward>),\n",
       " Tensor(1.0, grad_fn=<NoneBackward>),\n",
       " Tensor(0.29624916167243354, grad_fn=<NoneBackward>),\n",
       " Tensor(0.8090677156733267, grad_fn=<NoneBackward>),\n",
       " Tensor(1.0, grad_fn=<NoneBackward>),\n",
       " Tensor(0.29624916167243354, grad_fn=<NoneBackward>),\n",
       " Tensor(0.8090677156733267, grad_fn=<NoneBackward>),\n",
       " Tensor(1.0, grad_fn=<NoneBackward>),\n",
       " Tensor(0.29624916167243354, grad_fn=<NoneBackward>),\n",
       " Tensor(0.8090677156733267, grad_fn=<NoneBackward>),\n",
       " Tensor(0.35025252522341144, grad_fn=<NoneBackward>),\n",
       " Tensor(1.0, grad_fn=<NoneBackward>)]"
      ]
     },
     "execution_count": 3,
     "metadata": {},
     "output_type": "execute_result"
    }
   ],
   "source": [
    "model.parameters()"
   ]
  },
  {
   "cell_type": "code",
   "execution_count": 4,
   "metadata": {},
   "outputs": [
    {
     "data": {
      "text/plain": [
       "Tensor(8.834949550151086, grad_fn=<AddBackward>)"
      ]
     },
     "execution_count": 4,
     "metadata": {},
     "output_type": "execute_result"
    }
   ],
   "source": [
    "output = model(a)\n",
    "output "
   ]
  },
  {
   "cell_type": "code",
   "execution_count": 5,
   "metadata": {},
   "outputs": [],
   "source": [
    "output.backward()"
   ]
  },
  {
   "cell_type": "code",
   "execution_count": 6,
   "metadata": {},
   "outputs": [
    {
     "name": "stdout",
     "output_type": "stream",
     "text": [
      "0.431211215267162\n",
      "0.862422430534324\n",
      "1.2936336458014859\n",
      "0.431211215267162\n",
      "1.1776542115406285\n",
      "2.355308423081257\n",
      "3.5329626346218856\n",
      "1.1776542115406285\n",
      "1.1746700433862265\n",
      "1.1746700433862265\n",
      "0.29624916167243354\n",
      "3.20806851674145\n",
      "3.20806851674145\n",
      "0.8090677156733267\n",
      "1.3888010574532688\n",
      "1.3888010574532688\n",
      "0.35025252522341144\n",
      "5.3827385601276765\n",
      "5.3827385601276765\n",
      "5.3827385601276765\n",
      "1.0\n"
     ]
    }
   ],
   "source": [
    "for param in model.parameters():\n",
    "    print(param.grad)"
   ]
  },
  {
   "cell_type": "code",
   "execution_count": 7,
   "metadata": {},
   "outputs": [
    {
     "name": "stdout",
     "output_type": "stream",
     "text": [
      "<class 'nn.LinearLayer'> Activation: <class 'function.Relu'>\n",
      "<class 'nn.LinearLayer'> Activation: <class 'function.Relu'>\n",
      "<class 'nn.LinearLayer'> Activation: None\n"
     ]
    }
   ],
   "source": [
    "for layer in model.layers:\n",
    "    print(layer)"
   ]
  },
  {
   "cell_type": "code",
   "execution_count": null,
   "metadata": {},
   "outputs": [],
   "source": []
  },
  {
   "cell_type": "markdown",
   "metadata": {},
   "source": [
    "Testing Module class"
   ]
  },
  {
   "cell_type": "code",
   "execution_count": 2,
   "metadata": {},
   "outputs": [],
   "source": [
    "from nn import Module\n",
    "from nn import LinearLayer"
   ]
  },
  {
   "cell_type": "code",
   "execution_count": null,
   "metadata": {},
   "outputs": [],
   "source": [
    "class Model(Moudle):\n",
    "\n",
    "    def __init__(self):\n",
    "        super().__init__()\n",
    "        self.l1 = LinearLayer(3,)"
   ]
  },
  {
   "cell_type": "markdown",
   "metadata": {},
   "source": [
    "Testing Loss and Optimizer\n",
    "="
   ]
  },
  {
   "cell_type": "code",
   "execution_count": 3,
   "metadata": {},
   "outputs": [],
   "source": [
    "from loss import BCELoss, MSELoss\n",
    "from tensor import Tensor"
   ]
  },
  {
   "cell_type": "code",
   "execution_count": 9,
   "metadata": {},
   "outputs": [
    {
     "data": {
      "text/plain": [
       "Tensor(0.6400000000000001, grad_fn=<MSELossBackward>)"
      ]
     },
     "execution_count": 9,
     "metadata": {},
     "output_type": "execute_result"
    }
   ],
   "source": [
    "loss = BCELoss()\n",
    "loss1 = MSELoss()\n",
    "\n",
    "output = loss1(Tensor(0.2),Tensor(1.0))\n",
    "output"
   ]
  },
  {
   "cell_type": "code",
   "execution_count": 10,
   "metadata": {},
   "outputs": [],
   "source": [
    "output.backward()"
   ]
  },
  {
   "cell_type": "code",
   "execution_count": 11,
   "metadata": {},
   "outputs": [
    {
     "data": {
      "text/plain": [
       "-1.6"
      ]
     },
     "execution_count": 11,
     "metadata": {},
     "output_type": "execute_result"
    }
   ],
   "source": [
    "output.ctx.saved_tensors[0].grad"
   ]
  },
  {
   "cell_type": "code",
   "execution_count": null,
   "metadata": {},
   "outputs": [],
   "source": []
  }
 ],
 "metadata": {
  "kernelspec": {
   "display_name": "Python 3",
   "language": "python",
   "name": "python3"
  },
  "language_info": {
   "codemirror_mode": {
    "name": "ipython",
    "version": 3
   },
   "file_extension": ".py",
   "mimetype": "text/x-python",
   "name": "python",
   "nbconvert_exporter": "python",
   "pygments_lexer": "ipython3",
   "version": "3.10.0"
  }
 },
 "nbformat": 4,
 "nbformat_minor": 2
}
