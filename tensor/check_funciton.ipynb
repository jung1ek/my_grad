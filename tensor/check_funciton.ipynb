{
 "cells": [
  {
   "cell_type": "code",
   "execution_count": 2,
   "id": "52f4b938",
   "metadata": {},
   "outputs": [],
   "source": [
    "from tensor import Tensor"
   ]
  },
  {
   "cell_type": "code",
   "execution_count": 27,
   "id": "c457fed9",
   "metadata": {},
   "outputs": [
    {
     "data": {
      "text/plain": [
       "0.10499358540350662"
      ]
     },
     "execution_count": 27,
     "metadata": {},
     "output_type": "execute_result"
    }
   ],
   "source": [
    "# checking grad, direct sigmoid function and manual op sigmoid  funciton\n",
    "# direct sigmoid function\n",
    "\n",
    "x = Tensor(2.0)\n",
    "y = x.sigmoid()\n",
    "y.backward()\n",
    "x.grad"
   ]
  },
  {
   "cell_type": "code",
   "execution_count": 28,
   "id": "06122ee4",
   "metadata": {},
   "outputs": [
    {
     "data": {
      "text/plain": [
       "0.1049935854035065"
      ]
     },
     "execution_count": 28,
     "metadata": {},
     "output_type": "execute_result"
    }
   ],
   "source": [
    "# manual sigmoid\n",
    "x_1 = Tensor(2.0)\n",
    "y_1 = Tensor(1.0)/(Tensor(1.0)+((-x_1).exp()))\n",
    "y_1.backward()\n",
    "x_1.grad\n"
   ]
  },
  {
   "cell_type": "code",
   "execution_count": 23,
   "id": "f96dfc76",
   "metadata": {},
   "outputs": [
    {
     "data": {
      "text/plain": [
       "18.0"
      ]
     },
     "execution_count": 23,
     "metadata": {},
     "output_type": "execute_result"
    }
   ],
   "source": [
    "# checking the averageing the loss and manual averaging the grad\n",
    "# manual grad\n",
    "w = Tensor(2.0)\n",
    "x = [Tensor(2.0),Tensor(3.0)]\n",
    "y = [Tensor(1.0),Tensor(2.0)]\n",
    "loss = [((w*xi)-yi)**2 for xi,yi in zip(x,y)]\n",
    "loss[1].backward()\n",
    "loss[0].backward()\n",
    "w.grad/2"
   ]
  },
  {
   "cell_type": "code",
   "execution_count": 24,
   "id": "ab12e25d",
   "metadata": {},
   "outputs": [
    {
     "data": {
      "text/plain": [
       "18.0"
      ]
     },
     "execution_count": 24,
     "metadata": {},
     "output_type": "execute_result"
    }
   ],
   "source": [
    "# averaging the loss grad\n",
    "w = Tensor(2.0)\n",
    "x = [Tensor(2.0),Tensor(3.0)]\n",
    "y = [Tensor(1.0),Tensor(2.0)]\n",
    "loss = [((w*xi)-yi)**2 for xi,yi in zip(x,y)]\n",
    "avg_loss = (loss[0]+loss[1])/2\n",
    "avg_loss.backward()\n",
    "w.grad"
   ]
  },
  {
   "cell_type": "code",
   "execution_count": null,
   "id": "9ee4e96d",
   "metadata": {},
   "outputs": [],
   "source": []
  }
 ],
 "metadata": {
  "kernelspec": {
   "display_name": "Python 3",
   "language": "python",
   "name": "python3"
  },
  "language_info": {
   "codemirror_mode": {
    "name": "ipython",
    "version": 3
   },
   "file_extension": ".py",
   "mimetype": "text/x-python",
   "name": "python",
   "nbconvert_exporter": "python",
   "pygments_lexer": "ipython3",
   "version": "3.10.0"
  }
 },
 "nbformat": 4,
 "nbformat_minor": 5
}
