{
 "cells": [
  {
   "cell_type": "code",
   "execution_count": 1,
   "id": "68ed0ee4",
   "metadata": {},
   "outputs": [],
   "source": [
    "from nn import LinearLayer\n",
    "import numpy as np"
   ]
  },
  {
   "cell_type": "code",
   "execution_count": 23,
   "id": "f0a64040",
   "metadata": {},
   "outputs": [],
   "source": [
    "class SelfAttentionV2:\n",
    "\n",
    "    def __init__(self,d_in,d_out):\n",
    "        self.q_proj = LinearLayer(d_in,d_out,act=None)\n",
    "        self.k_proj = LinearLayer(d_in,d_out,act=None)\n",
    "        self.v_proj = LinearLayer(d_in,d_out,act=None)\n",
    "    \n",
    "    def forward(self,x):\n",
    "        Q = [self.q_proj(xi) for xi in x]\n",
    "        K = [self.k_proj(xi) for xi in x]\n",
    "        V = [self.v_proj(xi) for xi in x]\n",
    "        K = np.array(K)\n",
    "        attn_scores = np.dot(Q,K.transpose())\n",
    "        attn_scores = attn_scores/np.sqrt(K.shape[-1])\n",
    "        attn_weights = np.exp(attn_scores)/np.sum(np.exp(attn_scores),keepdims=True, axis=-1)\n",
    "        context_vector = np.dot(attn_weights,V)\n",
    "        return context_vector"
   ]
  },
  {
   "cell_type": "code",
   "execution_count": 24,
   "id": "dcb51196",
   "metadata": {},
   "outputs": [],
   "source": [
    "a = np.random.randn(3,4)"
   ]
  },
  {
   "cell_type": "code",
   "execution_count": 7,
   "id": "7cd4d9bc",
   "metadata": {},
   "outputs": [
    {
     "data": {
      "text/plain": [
       "array([[ 0.73394551, -0.08608078, -0.60985188, -1.38343918],\n",
       "       [ 1.81674141,  0.60470992, -0.66667314, -1.03760216],\n",
       "       [ 1.39469337,  0.70207237, -1.70358875,  1.23349245]])"
      ]
     },
     "execution_count": 7,
     "metadata": {},
     "output_type": "execute_result"
    }
   ],
   "source": [
    "a"
   ]
  },
  {
   "cell_type": "code",
   "execution_count": 9,
   "id": "c71604d0",
   "metadata": {},
   "outputs": [
    {
     "data": {
      "text/plain": [
       "array([[0.54896214, 0.24177395, 0.14319854, 0.06606537],\n",
       "       [0.69509924, 0.20685605, 0.05801143, 0.04003328],\n",
       "       [0.4172733 , 0.20874646, 0.01883015, 0.35515009]])"
      ]
     },
     "execution_count": 9,
     "metadata": {},
     "output_type": "execute_result"
    }
   ],
   "source": [
    "np.exp(a)/np.sum(np.exp(a),keepdims=True,axis=-1)"
   ]
  },
  {
   "cell_type": "code",
   "execution_count": 25,
   "id": "70abf3e5",
   "metadata": {},
   "outputs": [],
   "source": [
    "self_attn = SelfAttentionV2(4,4)"
   ]
  },
  {
   "cell_type": "code",
   "execution_count": 26,
   "id": "6fd62f5b",
   "metadata": {},
   "outputs": [
    {
     "data": {
      "text/plain": [
       "array([[Tensor(0.9119750805329534, grad_fn=<AddBackward>),\n",
       "        Tensor(1.150459298756238, grad_fn=<AddBackward>),\n",
       "        Tensor(0.5286505098718497, grad_fn=<AddBackward>),\n",
       "        Tensor(1.1472934593781328, grad_fn=<AddBackward>)],\n",
       "       [Tensor(0.9214747397987725, grad_fn=<AddBackward>),\n",
       "        Tensor(1.140565658189278, grad_fn=<AddBackward>),\n",
       "        Tensor(0.505664839519357, grad_fn=<AddBackward>),\n",
       "        Tensor(1.1265809985317223, grad_fn=<AddBackward>)],\n",
       "       [Tensor(0.9202264927209524, grad_fn=<AddBackward>),\n",
       "        Tensor(1.141475677988327, grad_fn=<AddBackward>),\n",
       "        Tensor(0.5092805500981126, grad_fn=<AddBackward>),\n",
       "        Tensor(1.1332267599247807, grad_fn=<AddBackward>)]], dtype=object)"
      ]
     },
     "execution_count": 26,
     "metadata": {},
     "output_type": "execute_result"
    }
   ],
   "source": [
    "self_attn.forward(a)"
   ]
  },
  {
   "cell_type": "code",
   "execution_count": null,
   "id": "a13191d9",
   "metadata": {},
   "outputs": [],
   "source": []
  }
 ],
 "metadata": {
  "kernelspec": {
   "display_name": "Python 3",
   "language": "python",
   "name": "python3"
  },
  "language_info": {
   "codemirror_mode": {
    "name": "ipython",
    "version": 3
   },
   "file_extension": ".py",
   "mimetype": "text/x-python",
   "name": "python",
   "nbconvert_exporter": "python",
   "pygments_lexer": "ipython3",
   "version": "3.10.0"
  }
 },
 "nbformat": 4,
 "nbformat_minor": 5
}
